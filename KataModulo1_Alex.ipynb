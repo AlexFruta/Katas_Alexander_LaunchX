{
 "cells": [
  {
   "cell_type": "code",
   "execution_count": 12,
   "metadata": {},
   "outputs": [
    {
     "name": "stdout",
     "output_type": "stream",
     "text": [
      "Fecha: 2022-02-12\n",
      "5 parsec, es equivalente a 16.3078 Añosluz\n"
     ]
    }
   ],
   "source": [
    "from datetime import date\n",
    "\n",
    "print(\"Fecha: \" + str(date.today()))\n",
    "\n",
    "parsec = 5\n",
    "añosluz = 3.26156 * parsec\n",
    "\n",
    "print(str(parsec) + \" parsec, es equivalente a \" + str(añosluz) + \" Añosluz\")\n"
   ]
  }
 ],
 "metadata": {
  "interpreter": {
   "hash": "17b2c8fda6c4496b160835d25f71e740d2a362bcd34f8a023421209f552c43ef"
  },
  "kernelspec": {
   "display_name": "Python 3.10.0 64-bit",
   "language": "python",
   "name": "python3"
  },
  "language_info": {
   "codemirror_mode": {
    "name": "ipython",
    "version": 3
   },
   "file_extension": ".py",
   "mimetype": "text/x-python",
   "name": "python",
   "nbconvert_exporter": "python",
   "pygments_lexer": "ipython3",
   "version": "3.10.0"
  },
  "orig_nbformat": 4
 },
 "nbformat": 4,
 "nbformat_minor": 2
}
