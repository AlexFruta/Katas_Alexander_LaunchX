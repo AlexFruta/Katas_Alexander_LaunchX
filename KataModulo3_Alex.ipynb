{
 "cells": [
  {
   "cell_type": "code",
   "execution_count": 24,
   "metadata": {},
   "outputs": [
    {
     "name": "stdout",
     "output_type": "stream",
     "text": [
      "¡Todo Bajo Control!\n",
      "Sin novedades en el cielo\n",
      "Objeto peligroso cerca\n"
     ]
    }
   ],
   "source": [
    "#Ejercicio 1\n",
    "Asteroide = 10\n",
    "if Asteroide > 25:\n",
    "    print('¡Alerta! Algo se acerca')\n",
    "else:\n",
    "    print('¡Todo Bajo Control!')\n",
    "\n",
    "#Ejercicio 2\n",
    "    asteroide = 15\n",
    "if asteroide > 20:\n",
    "    print('Hay algo en el cielo')\n",
    "elif asteroide == 20:\n",
    "    print('Hay algo en el cielo')\n",
    "else:\n",
    "    print('Sin novedades en el cielo')\n",
    "\n",
    "#Ejercicio 3\n",
    "v_asteroide = 26\n",
    "t_asteroide = 40\n",
    "if v_asteroide > 25 and t_asteroide > 25:\n",
    "    print('Objeto peligroso cerca')\n",
    "elif v_asteroide >= 20:\n",
    "    print('Hay un desteñño de luz en el cielo')\n",
    "elif t_asteroide < 25:\n",
    "    print('Sin novedades')\n",
    "else:\n",
    "    print('Sin novedades')"
   ]
  }
 ],
 "metadata": {
  "interpreter": {
   "hash": "17b2c8fda6c4496b160835d25f71e740d2a362bcd34f8a023421209f552c43ef"
  },
  "kernelspec": {
   "display_name": "Python 3.10.0 64-bit",
   "language": "python",
   "name": "python3"
  },
  "language_info": {
   "codemirror_mode": {
    "name": "ipython",
    "version": 3
   },
   "file_extension": ".py",
   "mimetype": "text/x-python",
   "name": "python",
   "nbconvert_exporter": "python",
   "pygments_lexer": "ipython3",
   "version": "3.10.0"
  },
  "orig_nbformat": 4
 },
 "nbformat": 4,
 "nbformat_minor": 2
}
